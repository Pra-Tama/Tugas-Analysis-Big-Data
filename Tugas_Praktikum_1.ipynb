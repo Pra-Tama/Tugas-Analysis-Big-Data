{
  "nbformat": 4,
  "nbformat_minor": 0,
  "metadata": {
    "colab": {
      "name": "Tugas Praktikum 1.ipynb",
      "provenance": [],
      "authorship_tag": "ABX9TyOB4dBQ/tvB0bnmxNpK/aF+",
      "include_colab_link": true
    },
    "kernelspec": {
      "name": "python3",
      "display_name": "Python 3"
    }
  },
  "cells": [
    {
      "cell_type": "markdown",
      "metadata": {
        "id": "view-in-github",
        "colab_type": "text"
      },
      "source": [
        "<a href=\"https://colab.research.google.com/github/Pra-Tama/Tugas-Analysis-Big-Data/blob/main/Tugas_Praktikum_1.ipynb\" target=\"_parent\"><img src=\"https://colab.research.google.com/assets/colab-badge.svg\" alt=\"Open In Colab\"/></a>"
      ]
    },
    {
      "cell_type": "markdown",
      "metadata": {
        "id": "Aj07I9QUIv-y"
      },
      "source": [
        "TIPE DATA PADA PYTHON"
      ]
    },
    {
      "cell_type": "code",
      "metadata": {
        "id": "NP0CtqwAJkSF"
      },
      "source": [
        "nama ='Rocky'"
      ],
      "execution_count": null,
      "outputs": []
    },
    {
      "cell_type": "code",
      "metadata": {
        "colab": {
          "base_uri": "https://localhost:8080/"
        },
        "id": "HU3Dm6HVJnOi",
        "outputId": "931eb094-da1a-40ce-f901-1e2fcb925c0a"
      },
      "source": [
        "type (nama)"
      ],
      "execution_count": null,
      "outputs": [
        {
          "output_type": "execute_result",
          "data": {
            "text/plain": [
              "str"
            ]
          },
          "metadata": {
            "tags": []
          },
          "execution_count": 12
        }
      ]
    },
    {
      "cell_type": "code",
      "metadata": {
        "id": "emHPNycFJqQF"
      },
      "source": [
        "angka = 123"
      ],
      "execution_count": null,
      "outputs": []
    },
    {
      "cell_type": "code",
      "metadata": {
        "colab": {
          "base_uri": "https://localhost:8080/"
        },
        "id": "yrGKU7B0JsYu",
        "outputId": "1aad9aba-9ac9-4bbc-83f6-ebf715af1f6c"
      },
      "source": [
        "type (angka)"
      ],
      "execution_count": null,
      "outputs": [
        {
          "output_type": "execute_result",
          "data": {
            "text/plain": [
              "int"
            ]
          },
          "metadata": {
            "tags": []
          },
          "execution_count": 14
        }
      ]
    },
    {
      "cell_type": "code",
      "metadata": {
        "id": "g8UkOcJWJujD"
      },
      "source": [
        "keranjang = [ 1, 9,'salak','apple',5]"
      ],
      "execution_count": null,
      "outputs": []
    },
    {
      "cell_type": "code",
      "metadata": {
        "colab": {
          "base_uri": "https://localhost:8080/"
        },
        "id": "m0vHU7IPJw0k",
        "outputId": "5df0cf35-4668-476a-a96c-15ecf57edd2c"
      },
      "source": [
        "type (keranjang)"
      ],
      "execution_count": null,
      "outputs": [
        {
          "output_type": "execute_result",
          "data": {
            "text/plain": [
              "list"
            ]
          },
          "metadata": {
            "tags": []
          },
          "execution_count": 16
        }
      ]
    },
    {
      "cell_type": "markdown",
      "metadata": {
        "id": "Lv9KNMPdJyvN"
      },
      "source": [
        "Fungsi Print"
      ]
    },
    {
      "cell_type": "code",
      "metadata": {
        "id": "7uaBlKMxJz9d"
      },
      "source": [
        "nama ='Rocky'"
      ],
      "execution_count": null,
      "outputs": []
    },
    {
      "cell_type": "code",
      "metadata": {
        "colab": {
          "base_uri": "https://localhost:8080/"
        },
        "id": "_pbOUqzGJ3v8",
        "outputId": "0e5b1592-c82e-460d-90a7-c0c76adab0ac"
      },
      "source": [
        "print (nama)"
      ],
      "execution_count": null,
      "outputs": [
        {
          "output_type": "stream",
          "text": [
            "Rocky\n"
          ],
          "name": "stdout"
        }
      ]
    },
    {
      "cell_type": "code",
      "metadata": {
        "colab": {
          "base_uri": "https://localhost:8080/",
          "height": 36
        },
        "id": "p3YmTV6EJ5wL",
        "outputId": "3a900575-5faf-40f0-db31-b4dbf052856c"
      },
      "source": [
        "nama"
      ],
      "execution_count": null,
      "outputs": [
        {
          "output_type": "execute_result",
          "data": {
            "application/vnd.google.colaboratory.intrinsic+json": {
              "type": "string"
            },
            "text/plain": [
              "'Rocky'"
            ]
          },
          "metadata": {
            "tags": []
          },
          "execution_count": 19
        }
      ]
    },
    {
      "cell_type": "code",
      "metadata": {
        "id": "NlOpJBRAJ7D0"
      },
      "source": [
        "angka = 123456"
      ],
      "execution_count": null,
      "outputs": []
    },
    {
      "cell_type": "code",
      "metadata": {
        "colab": {
          "base_uri": "https://localhost:8080/"
        },
        "id": "AbdA2NXEJ9s6",
        "outputId": "cb539f0d-a735-420f-9643-0ec72bdad9d5"
      },
      "source": [
        "print (angka)"
      ],
      "execution_count": null,
      "outputs": [
        {
          "output_type": "stream",
          "text": [
            "123456\n"
          ],
          "name": "stdout"
        }
      ]
    },
    {
      "cell_type": "code",
      "metadata": {
        "id": "ngFjLTawJ_n-"
      },
      "source": [
        "keranjang = [1, 2, 3, 4, 5]"
      ],
      "execution_count": null,
      "outputs": []
    },
    {
      "cell_type": "code",
      "metadata": {
        "colab": {
          "base_uri": "https://localhost:8080/"
        },
        "id": "IlgeGf4QKCb4",
        "outputId": "1799609e-db32-4736-a8d1-6d472960366d"
      },
      "source": [
        "keranjang"
      ],
      "execution_count": null,
      "outputs": [
        {
          "output_type": "execute_result",
          "data": {
            "text/plain": [
              "[1, 2, 3, 4, 5]"
            ]
          },
          "metadata": {
            "tags": []
          },
          "execution_count": 23
        }
      ]
    },
    {
      "cell_type": "markdown",
      "metadata": {
        "id": "9ViQfY_2KHsd"
      },
      "source": [
        "Penggunaan String"
      ]
    },
    {
      "cell_type": "code",
      "metadata": {
        "id": "ABOTVHKHKIQy"
      },
      "source": [
        "murid = 'Rocky'"
      ],
      "execution_count": null,
      "outputs": []
    },
    {
      "cell_type": "code",
      "metadata": {
        "id": "E8isDrzkKMSR"
      },
      "source": [
        "murid2 = murid + ' pria yang paling keren'"
      ],
      "execution_count": null,
      "outputs": []
    },
    {
      "cell_type": "code",
      "metadata": {
        "colab": {
          "base_uri": "https://localhost:8080/"
        },
        "id": "I3jxZd4aKRsU",
        "outputId": "deb75241-11be-4548-c24f-ce722b7e193e"
      },
      "source": [
        "print (murid2)"
      ],
      "execution_count": null,
      "outputs": [
        {
          "output_type": "stream",
          "text": [
            "Rocky pria yang paling keren\n"
          ],
          "name": "stdout"
        }
      ]
    },
    {
      "cell_type": "code",
      "metadata": {
        "id": "-SyrZs9rKUD5"
      },
      "source": [
        "murid3 = ' mahasiswa darmajaya'"
      ],
      "execution_count": null,
      "outputs": []
    },
    {
      "cell_type": "code",
      "metadata": {
        "id": "I9RyCzCkKWBw"
      },
      "source": [
        "murid4 = murid + murid3"
      ],
      "execution_count": null,
      "outputs": []
    },
    {
      "cell_type": "code",
      "metadata": {
        "colab": {
          "base_uri": "https://localhost:8080/"
        },
        "id": "sDfNpdCEKad5",
        "outputId": "4fbff610-b82c-48cf-b08f-3b4465250206"
      },
      "source": [
        "print (murid4)"
      ],
      "execution_count": null,
      "outputs": [
        {
          "output_type": "stream",
          "text": [
            "Rocky mahasiswa darmajaya\n"
          ],
          "name": "stdout"
        }
      ]
    },
    {
      "cell_type": "markdown",
      "metadata": {
        "id": "7vWmg_b7KfEH"
      },
      "source": [
        "Muttable dan immutable"
      ]
    },
    {
      "cell_type": "code",
      "metadata": {
        "id": "m57v9J0lKgXd"
      },
      "source": [
        "bakul = [1, 4, 'apple', 'nanas' , 102]"
      ],
      "execution_count": null,
      "outputs": []
    },
    {
      "cell_type": "code",
      "metadata": {
        "colab": {
          "base_uri": "https://localhost:8080/"
        },
        "id": "Gw4ShmnQKjaf",
        "outputId": "724f6f5f-a9f8-4709-cb5c-7b80ea982534"
      },
      "source": [
        "bakul"
      ],
      "execution_count": null,
      "outputs": [
        {
          "output_type": "execute_result",
          "data": {
            "text/plain": [
              "[1, 4, 'apple', 'nanas', 102]"
            ]
          },
          "metadata": {
            "tags": []
          },
          "execution_count": 33
        }
      ]
    },
    {
      "cell_type": "markdown",
      "metadata": {
        "id": "v77_mBN4Kmvp"
      },
      "source": [
        "merubah isi list"
      ]
    },
    {
      "cell_type": "code",
      "metadata": {
        "id": "Znh7j3FLKoDO"
      },
      "source": [
        "bakul[1]= 'mangga'"
      ],
      "execution_count": null,
      "outputs": []
    },
    {
      "cell_type": "code",
      "metadata": {
        "colab": {
          "base_uri": "https://localhost:8080/"
        },
        "id": "ExX2OCluKrbW",
        "outputId": "106f1e6a-d8fc-49b9-9544-d3cfcabeb995"
      },
      "source": [
        "bakul"
      ],
      "execution_count": null,
      "outputs": [
        {
          "output_type": "execute_result",
          "data": {
            "text/plain": [
              "[1, 'mangga', 'apple', 'nanas', 102]"
            ]
          },
          "metadata": {
            "tags": []
          },
          "execution_count": 35
        }
      ]
    },
    {
      "cell_type": "code",
      "metadata": {
        "id": "Q2AWYDYzKuS-"
      },
      "source": [
        "bakul[0] = 1200"
      ],
      "execution_count": null,
      "outputs": []
    },
    {
      "cell_type": "code",
      "metadata": {
        "colab": {
          "base_uri": "https://localhost:8080/"
        },
        "id": "Oz32iB7kKvqc",
        "outputId": "7253c5fe-8b19-46be-b70d-b83862b8387a"
      },
      "source": [
        "bakul"
      ],
      "execution_count": null,
      "outputs": [
        {
          "output_type": "execute_result",
          "data": {
            "text/plain": [
              "[1200, 'mangga', 'apple', 'nanas', 102]"
            ]
          },
          "metadata": {
            "tags": []
          },
          "execution_count": 37
        }
      ]
    },
    {
      "cell_type": "markdown",
      "metadata": {
        "id": "Ng_9vppiKxyu"
      },
      "source": [
        "contoh immuttable dipertemuan selanjutnya"
      ]
    }
  ]
}